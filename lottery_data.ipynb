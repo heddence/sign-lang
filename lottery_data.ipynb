{
  "nbformat": 4,
  "nbformat_minor": 0,
  "metadata": {
    "colab": {
      "provenance": [],
      "collapsed_sections": [],
      "mount_file_id": "148Sei3rv0nk9ZZD9SlTFCtnPoZyNGn6D",
      "authorship_tag": "ABX9TyOMeAt7MTImPxMOTya46L4/",
      "include_colab_link": true
    },
    "kernelspec": {
      "name": "python3",
      "display_name": "Python 3"
    },
    "language_info": {
      "name": "python"
    }
  },
  "cells": [
    {
      "cell_type": "markdown",
      "metadata": {
        "id": "view-in-github",
        "colab_type": "text"
      },
      "source": [
        "<a href=\"https://colab.research.google.com/github/heddence/sign-lang/blob/master/lottery_data.ipynb\" target=\"_parent\"><img src=\"https://colab.research.google.com/assets/colab-badge.svg\" alt=\"Open In Colab\"/></a>"
      ]
    },
    {
      "cell_type": "markdown",
      "source": [
        "# **Lottery Data**"
      ],
      "metadata": {
        "id": "HAskXWdRpKdp"
      }
    },
    {
      "cell_type": "markdown",
      "source": [
        "## **Setup**"
      ],
      "metadata": {
        "id": "EhICcx8LpPq2"
      }
    },
    {
      "cell_type": "code",
      "source": [
        "# Common imports\n",
        "import numpy as np\n",
        "import os\n",
        "\n",
        "# Figures\n",
        "%matplotlib inline\n",
        "import matplotlib as mpl\n",
        "import matplotlib.pyplot as plt\n",
        "mpl.rc('axes', labelsize=14)\n",
        "mpl.rc('xtick', labelsize=12)\n",
        "mpl.rc('ytick', labelsize=12)\n",
        "\n",
        "# Where to save the figures\n",
        "PROJECT_ROOT_DIR = \".\"\n",
        "IMAGES_PATH = os.path.join(PROJECT_ROOT_DIR, \"images\")\n",
        "os.makedirs(IMAGES_PATH, exist_ok=True)\n",
        "\n",
        "def save_fig(fig_id, tight_layout=True, fig_extension=\"png\", resolution=300):\n",
        "    path = os.path.join(IMAGES_PATH, fig_id + \".\" + fig_extension)\n",
        "    print(\"Saving figure\", fig_id)\n",
        "    if tight_layout:\n",
        "        plt.tight_layout()\n",
        "    plt.savefig(path, format=fig_extension, dpi=resolution)"
      ],
      "metadata": {
        "id": "bEbYwgjGh4mp"
      },
      "execution_count": 1,
      "outputs": []
    },
    {
      "cell_type": "markdown",
      "source": [
        "## **Load Data**"
      ],
      "metadata": {
        "id": "kH2yo8SDpXtv"
      }
    },
    {
      "cell_type": "code",
      "source": [
        "import pandas as pd\n",
        "\n",
        "data = pd.read_csv('lottery_data.csv', parse_dates=['date'])"
      ],
      "metadata": {
        "id": "nb3_OEERrXVN"
      },
      "execution_count": 2,
      "outputs": []
    },
    {
      "cell_type": "code",
      "source": [
        "data.info()"
      ],
      "metadata": {
        "colab": {
          "base_uri": "https://localhost:8080/"
        },
        "id": "pmd8KZm-rl-t",
        "outputId": "9ada908e-52d2-4f5b-a8f6-2eb08c070f0f"
      },
      "execution_count": 3,
      "outputs": [
        {
          "output_type": "stream",
          "name": "stdout",
          "text": [
            "<class 'pandas.core.frame.DataFrame'>\n",
            "RangeIndex: 950 entries, 0 to 949\n",
            "Data columns (total 6 columns):\n",
            " #   Column           Non-Null Count  Dtype         \n",
            "---  ------           --------------  -----         \n",
            " 0   date             950 non-null    datetime64[ns]\n",
            " 1   weekday          950 non-null    object        \n",
            " 2   winning_numbers  950 non-null    object        \n",
            " 3   powerball        950 non-null    int64         \n",
            " 4   powerplay        950 non-null    int64         \n",
            " 5   jackpot          950 non-null    int64         \n",
            "dtypes: datetime64[ns](1), int64(3), object(2)\n",
            "memory usage: 44.7+ KB\n"
          ]
        }
      ]
    },
    {
      "cell_type": "code",
      "source": [
        "data.head()"
      ],
      "metadata": {
        "colab": {
          "base_uri": "https://localhost:8080/",
          "height": 206
        },
        "id": "ndEjxP2rrzBP",
        "outputId": "1a691aa5-7d71-4285-d0c6-2fe24a56d35e"
      },
      "execution_count": 4,
      "outputs": [
        {
          "output_type": "execute_result",
          "data": {
            "text/plain": [
              "        date weekday winning_numbers  powerball  powerplay    jackpot\n",
              "0 2014-05-07     Wed  17-29-31-48-49         34          2   70000000\n",
              "1 2014-05-10     Sat   4-31-41-47-55          1          2   90000000\n",
              "2 2014-05-14     Wed   7-33-39-52-55         33          3   90000000\n",
              "3 2014-05-17     Sat  23-32-39-47-49         22          3  114000000\n",
              "4 2014-05-21     Wed   4-20-34-39-58         31          5  114000000"
            ],
            "text/html": [
              "\n",
              "  <div id=\"df-f46470c4-6777-4d09-aa08-6ca5df49b822\">\n",
              "    <div class=\"colab-df-container\">\n",
              "      <div>\n",
              "<style scoped>\n",
              "    .dataframe tbody tr th:only-of-type {\n",
              "        vertical-align: middle;\n",
              "    }\n",
              "\n",
              "    .dataframe tbody tr th {\n",
              "        vertical-align: top;\n",
              "    }\n",
              "\n",
              "    .dataframe thead th {\n",
              "        text-align: right;\n",
              "    }\n",
              "</style>\n",
              "<table border=\"1\" class=\"dataframe\">\n",
              "  <thead>\n",
              "    <tr style=\"text-align: right;\">\n",
              "      <th></th>\n",
              "      <th>date</th>\n",
              "      <th>weekday</th>\n",
              "      <th>winning_numbers</th>\n",
              "      <th>powerball</th>\n",
              "      <th>powerplay</th>\n",
              "      <th>jackpot</th>\n",
              "    </tr>\n",
              "  </thead>\n",
              "  <tbody>\n",
              "    <tr>\n",
              "      <th>0</th>\n",
              "      <td>2014-05-07</td>\n",
              "      <td>Wed</td>\n",
              "      <td>17-29-31-48-49</td>\n",
              "      <td>34</td>\n",
              "      <td>2</td>\n",
              "      <td>70000000</td>\n",
              "    </tr>\n",
              "    <tr>\n",
              "      <th>1</th>\n",
              "      <td>2014-05-10</td>\n",
              "      <td>Sat</td>\n",
              "      <td>4-31-41-47-55</td>\n",
              "      <td>1</td>\n",
              "      <td>2</td>\n",
              "      <td>90000000</td>\n",
              "    </tr>\n",
              "    <tr>\n",
              "      <th>2</th>\n",
              "      <td>2014-05-14</td>\n",
              "      <td>Wed</td>\n",
              "      <td>7-33-39-52-55</td>\n",
              "      <td>33</td>\n",
              "      <td>3</td>\n",
              "      <td>90000000</td>\n",
              "    </tr>\n",
              "    <tr>\n",
              "      <th>3</th>\n",
              "      <td>2014-05-17</td>\n",
              "      <td>Sat</td>\n",
              "      <td>23-32-39-47-49</td>\n",
              "      <td>22</td>\n",
              "      <td>3</td>\n",
              "      <td>114000000</td>\n",
              "    </tr>\n",
              "    <tr>\n",
              "      <th>4</th>\n",
              "      <td>2014-05-21</td>\n",
              "      <td>Wed</td>\n",
              "      <td>4-20-34-39-58</td>\n",
              "      <td>31</td>\n",
              "      <td>5</td>\n",
              "      <td>114000000</td>\n",
              "    </tr>\n",
              "  </tbody>\n",
              "</table>\n",
              "</div>\n",
              "      <button class=\"colab-df-convert\" onclick=\"convertToInteractive('df-f46470c4-6777-4d09-aa08-6ca5df49b822')\"\n",
              "              title=\"Convert this dataframe to an interactive table.\"\n",
              "              style=\"display:none;\">\n",
              "        \n",
              "  <svg xmlns=\"http://www.w3.org/2000/svg\" height=\"24px\"viewBox=\"0 0 24 24\"\n",
              "       width=\"24px\">\n",
              "    <path d=\"M0 0h24v24H0V0z\" fill=\"none\"/>\n",
              "    <path d=\"M18.56 5.44l.94 2.06.94-2.06 2.06-.94-2.06-.94-.94-2.06-.94 2.06-2.06.94zm-11 1L8.5 8.5l.94-2.06 2.06-.94-2.06-.94L8.5 2.5l-.94 2.06-2.06.94zm10 10l.94 2.06.94-2.06 2.06-.94-2.06-.94-.94-2.06-.94 2.06-2.06.94z\"/><path d=\"M17.41 7.96l-1.37-1.37c-.4-.4-.92-.59-1.43-.59-.52 0-1.04.2-1.43.59L10.3 9.45l-7.72 7.72c-.78.78-.78 2.05 0 2.83L4 21.41c.39.39.9.59 1.41.59.51 0 1.02-.2 1.41-.59l7.78-7.78 2.81-2.81c.8-.78.8-2.07 0-2.86zM5.41 20L4 18.59l7.72-7.72 1.47 1.35L5.41 20z\"/>\n",
              "  </svg>\n",
              "      </button>\n",
              "      \n",
              "  <style>\n",
              "    .colab-df-container {\n",
              "      display:flex;\n",
              "      flex-wrap:wrap;\n",
              "      gap: 12px;\n",
              "    }\n",
              "\n",
              "    .colab-df-convert {\n",
              "      background-color: #E8F0FE;\n",
              "      border: none;\n",
              "      border-radius: 50%;\n",
              "      cursor: pointer;\n",
              "      display: none;\n",
              "      fill: #1967D2;\n",
              "      height: 32px;\n",
              "      padding: 0 0 0 0;\n",
              "      width: 32px;\n",
              "    }\n",
              "\n",
              "    .colab-df-convert:hover {\n",
              "      background-color: #E2EBFA;\n",
              "      box-shadow: 0px 1px 2px rgba(60, 64, 67, 0.3), 0px 1px 3px 1px rgba(60, 64, 67, 0.15);\n",
              "      fill: #174EA6;\n",
              "    }\n",
              "\n",
              "    [theme=dark] .colab-df-convert {\n",
              "      background-color: #3B4455;\n",
              "      fill: #D2E3FC;\n",
              "    }\n",
              "\n",
              "    [theme=dark] .colab-df-convert:hover {\n",
              "      background-color: #434B5C;\n",
              "      box-shadow: 0px 1px 3px 1px rgba(0, 0, 0, 0.15);\n",
              "      filter: drop-shadow(0px 1px 2px rgba(0, 0, 0, 0.3));\n",
              "      fill: #FFFFFF;\n",
              "    }\n",
              "  </style>\n",
              "\n",
              "      <script>\n",
              "        const buttonEl =\n",
              "          document.querySelector('#df-f46470c4-6777-4d09-aa08-6ca5df49b822 button.colab-df-convert');\n",
              "        buttonEl.style.display =\n",
              "          google.colab.kernel.accessAllowed ? 'block' : 'none';\n",
              "\n",
              "        async function convertToInteractive(key) {\n",
              "          const element = document.querySelector('#df-f46470c4-6777-4d09-aa08-6ca5df49b822');\n",
              "          const dataTable =\n",
              "            await google.colab.kernel.invokeFunction('convertToInteractive',\n",
              "                                                     [key], {});\n",
              "          if (!dataTable) return;\n",
              "\n",
              "          const docLinkHtml = 'Like what you see? Visit the ' +\n",
              "            '<a target=\"_blank\" href=https://colab.research.google.com/notebooks/data_table.ipynb>data table notebook</a>'\n",
              "            + ' to learn more about interactive tables.';\n",
              "          element.innerHTML = '';\n",
              "          dataTable['output_type'] = 'display_data';\n",
              "          await google.colab.output.renderOutput(dataTable, element);\n",
              "          const docLink = document.createElement('div');\n",
              "          docLink.innerHTML = docLinkHtml;\n",
              "          element.appendChild(docLink);\n",
              "        }\n",
              "      </script>\n",
              "    </div>\n",
              "  </div>\n",
              "  "
            ]
          },
          "metadata": {},
          "execution_count": 4
        }
      ]
    },
    {
      "cell_type": "markdown",
      "source": [
        "## **EDA**"
      ],
      "metadata": {
        "id": "q47kRR663QEk"
      }
    },
    {
      "cell_type": "markdown",
      "source": [
        "### 1. What were the most common powerball numbers depending on the day?"
      ],
      "metadata": {
        "id": "wkgIUcmX3aJJ"
      }
    },
    {
      "cell_type": "code",
      "source": [
        "data['weekday'].unique()"
      ],
      "metadata": {
        "colab": {
          "base_uri": "https://localhost:8080/"
        },
        "id": "1PHYaqd53e35",
        "outputId": "b9e7975a-98a7-4b5f-fedc-f56afd70399d"
      },
      "execution_count": 5,
      "outputs": [
        {
          "output_type": "execute_result",
          "data": {
            "text/plain": [
              "array(['Wed', 'Sat', 'Mon'], dtype=object)"
            ]
          },
          "metadata": {},
          "execution_count": 5
        }
      ]
    },
    {
      "cell_type": "code",
      "source": [
        "data['powerball'].unique()"
      ],
      "metadata": {
        "colab": {
          "base_uri": "https://localhost:8080/"
        },
        "id": "gCqCDSKW3iIf",
        "outputId": "9c0f74f6-3de3-4aca-e438-ea955691ed05"
      },
      "execution_count": 6,
      "outputs": [
        {
          "output_type": "execute_result",
          "data": {
            "text/plain": [
              "array([34,  1, 33, 22, 31, 18, 25, 24, 15, 23, 30,  7, 26, 35,  9, 11, 14,\n",
              "        3, 16, 29, 19, 27, 13, 28, 20, 12, 17, 10,  5,  8, 32,  6, 21,  2,\n",
              "        4])"
            ]
          },
          "metadata": {},
          "execution_count": 6
        }
      ]
    },
    {
      "cell_type": "code",
      "source": [
        "common_pb = data.groupby(['weekday', 'powerball']).size()\n",
        "common_pb = common_pb.to_frame(name='size').reset_index()\n",
        "\n",
        "mon_common_pb = common_pb[common_pb['weekday'] == 'Mon']\\\n",
        "  .sort_values(by='size', ascending=False)\\\n",
        "  .head(5)\n",
        "wed_common_pb = common_pb[common_pb['weekday'] == 'Wed']\\\n",
        "  .sort_values(by='size', ascending=False)\\\n",
        "  .head(5)\n",
        "sat_common_pb = common_pb[common_pb['weekday'] == 'Sat']\\\n",
        "  .sort_values(by='size', ascending=False)\\\n",
        "  .head(5)"
      ],
      "metadata": {
        "id": "Hih_VH7D3oKM"
      },
      "execution_count": 7,
      "outputs": []
    },
    {
      "cell_type": "code",
      "source": [
        "r = np.arange(len(mon_common_pb))\n",
        "\n",
        "fig, axs = plt.subplots(3)\n",
        "axs[0].bar(x=r, height=mon_common_pb['size'])\n",
        "axs[1].bar(x=r, height=wed_common_pb['size'])\n",
        "axs[2].bar(x=r, height=sat_common_pb['size'])\n",
        "\n",
        "axs[0].set_xticks(r, mon_common_pb['powerball'])\n",
        "axs[1].set_xticks(r, wed_common_pb['powerball'])\n",
        "axs[2].set_xticks(r, sat_common_pb['powerball'])\n",
        "\n",
        "axs[0].set_ylabel('Mon')\n",
        "axs[1].set_ylabel('Wed')\n",
        "axs[2].set_ylabel('Sat')\n",
        "\n",
        "fig.supylabel('Number of occurences')\n",
        "fig.supxlabel('Powerballs')\n",
        "\n",
        "save_fig('common_pb')"
      ],
      "metadata": {
        "colab": {
          "base_uri": "https://localhost:8080/",
          "height": 323
        },
        "id": "ML3wbvhqtd6X",
        "outputId": "84b98553-5ae4-417e-f9fd-618696e69e32"
      },
      "execution_count": 17,
      "outputs": [
        {
          "output_type": "stream",
          "name": "stdout",
          "text": [
            "Saving figure common_pb\n"
          ]
        },
        {
          "output_type": "display_data",
          "data": {
            "text/plain": [
              "<Figure size 432x288 with 3 Axes>"
            ],
            "image/png": "[encoded data removed]"
          },
          "metadata": {
            "needs_background": "light"
          }
        }
      ]
    },
    {
      "cell_type": "markdown",
      "source": [
        "### 2. What were the most common powerball numbers overall?"
      ],
      "metadata": {
        "id": "rWr4Z-2bUDxg"
      }
    },
    {
      "cell_type": "code",
      "source": [
        "most_common_pb = data.groupby(['powerball']).size()"
      ],
      "metadata": {
        "id": "zvAPIpkpUEgC"
      },
      "execution_count": 20,
      "outputs": []
    },
    {
      "cell_type": "code",
      "source": [
        "most_common_pb.plot.bar()\n",
        "xr = np.array([x for x in most_common_pb.index if x % 2 != 0])\n",
        "plt.xticks(xr, rotation=45)\n",
        "save_fig('most_common_pb')"
      ],
      "metadata": {
        "colab": {
          "base_uri": "https://localhost:8080/",
          "height": 314
        },
        "id": "MeGyVb2wUrML",
        "outputId": "52ff1780-d664-42dc-b4f6-2e3db685cba9"
      },
      "execution_count": 33,
      "outputs": [
        {
          "output_type": "stream",
          "name": "stdout",
          "text": [
            "Saving figure most_common\n"
          ]
        },
        {
          "output_type": "display_data",
          "data": {
            "text/plain": [
              "<Figure size 432x288 with 1 Axes>"
            ],
            "image/png": "[encoded data removed]"
          },
          "metadata": {
            "needs_background": "light"
          }
        }
      ]
    },
    {
      "cell_type": "markdown",
      "source": [
        "### 3. What were the most common powerplay numbers by day?"
      ],
      "metadata": {
        "id": "0ImoJL72fiAF"
      }
    },
    {
      "cell_type": "code",
      "source": [
        "common_pp = data.groupby(['weekday', 'powerplay']).size()\n",
        "common_pp = common_pp.to_frame(name='size').reset_index()\n",
        "\n",
        "mon_common_pp = common_pp[common_pp['weekday'] == 'Mon']\n",
        "sat_common_pp = common_pp[common_pp['weekday'] == 'Sat']\n",
        "wed_common_pp = common_pp[common_pp['weekday'] == 'Wed']"
      ],
      "metadata": {
        "id": "vlxM3lI6fjTT"
      },
      "execution_count": 37,
      "outputs": []
    },
    {
      "cell_type": "code",
      "source": [
        "r1 = np.arange(len(mon_common_pp))\n",
        "r2 = np.arange(len(sat_common_pp))\n",
        "r3 = np.arange(len(wed_common_pp))\n",
        "\n",
        "fig, axs = plt.subplots(3)\n",
        "\n",
        "axs[0].bar(x=r1, height=mon_common_pp['size'])\n",
        "axs[1].bar(x=r2, height=sat_common_pp['size'])\n",
        "axs[2].bar(x=r3, height=wed_common_pp['size'])\n",
        "\n",
        "axs[0].set_xticks(r1, mon_common_pp['powerplay'])\n",
        "axs[1].set_xticks(r2, sat_common_pp['powerplay'])\n",
        "axs[2].set_xticks(r3, wed_common_pp['powerplay'])\n",
        "\n",
        "axs[0].set_ylabel('Mon')\n",
        "axs[1].set_ylabel('Sat')\n",
        "axs[2].set_ylabel('Wed')\n",
        "\n",
        "fig.supylabel('Number of occurences')\n",
        "fig.supxlabel('Powerplays')\n",
        "\n",
        "save_fig('common_pp')"
      ],
      "metadata": {
        "colab": {
          "base_uri": "https://localhost:8080/",
          "height": 322
        },
        "id": "F39of6WQg-3m",
        "outputId": "ddf12125-40da-48c8-8c5b-01380d968a71"
      },
      "execution_count": 41,
      "outputs": [
        {
          "output_type": "stream",
          "name": "stdout",
          "text": [
            "Saving figure common_pp\n"
          ]
        },
        {
          "output_type": "display_data",
          "data": {
            "text/plain": [
              "<Figure size 432x288 with 3 Axes>"
            ],
            "image/png": "[encoded data removed]"
          },
          "metadata": {
            "needs_background": "light"
          }
        }
      ]
    },
    {
      "cell_type": "markdown",
      "source": [
        "### 4. What were the most common powerplay numbers overall?"
      ],
      "metadata": {
        "id": "fXbejQCt6nN3"
      }
    },
    {
      "cell_type": "code",
      "source": [
        "most_common_pp = data.groupby(['powerplay']).size()"
      ],
      "metadata": {
        "id": "bcQ3XGlJ6oGc"
      },
      "execution_count": 42,
      "outputs": []
    },
    {
      "cell_type": "code",
      "source": [
        "most_common_pp.plot.bar()\n",
        "save_fig('most_common_pp')"
      ],
      "metadata": {
        "colab": {
          "base_uri": "https://localhost:8080/",
          "height": 314
        },
        "id": "1wL8Pdvg8FtF",
        "outputId": "667c5f1e-b0de-4ca3-9001-307c405f28be"
      },
      "execution_count": 44,
      "outputs": [
        {
          "output_type": "stream",
          "name": "stdout",
          "text": [
            "Saving figure most_common_pp\n"
          ]
        },
        {
          "output_type": "display_data",
          "data": {
            "text/plain": [
              "<Figure size 432x288 with 1 Axes>"
            ],
            "image/png": "[encoded data removed]"
          },
          "metadata": {
            "needs_background": "light"
          }
        }
      ]
    },
    {
      "cell_type": "markdown",
      "source": [
        "### 5. Which day of the week had the highest median jackpot?"
      ],
      "metadata": {
        "id": "ZxzYfzNi_jox"
      }
    },
    {
      "cell_type": "code",
      "source": [
        "median_weekday = data.groupby(['weekday'])['jackpot'].median()"
      ],
      "metadata": {
        "id": "_x5xnAT__mP_"
      },
      "execution_count": 50,
      "outputs": []
    },
    {
      "cell_type": "code",
      "source": [
        "median_weekday.plot.barh()\n",
        "plt.ylabel(None)\n",
        "plt.xlabel('Median jackpot')\n",
        "save_fig('median_jackpot')"
      ],
      "metadata": {
        "colab": {
          "base_uri": "https://localhost:8080/",
          "height": 314
        },
        "id": "O2xjv6NtFT_n",
        "outputId": "f23e8c8c-43c8-4c18-bb15-f688e5395c35"
      },
      "execution_count": 55,
      "outputs": [
        {
          "output_type": "stream",
          "name": "stdout",
          "text": [
            "Saving figure median_jackpot\n"
          ]
        },
        {
          "output_type": "display_data",
          "data": {
            "text/plain": [
              "<Figure size 432x288 with 1 Axes>"
            ],
            "image/png": "[encoded data removed]"
          },
          "metadata": {
            "needs_background": "light"
          }
        }
      ]
    },
    {
      "cell_type": "code",
      "source": [],
      "metadata": {
        "id": "6HWgR62gIAN7"
      },
      "execution_count": null,
      "outputs": []
    }
  ]
}